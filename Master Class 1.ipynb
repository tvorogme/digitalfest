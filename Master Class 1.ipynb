{
 "cells": [
  {
   "cell_type": "markdown",
   "metadata": {
    "ExecuteTime": {
     "end_time": "2017-11-23T00:06:16.580812Z",
     "start_time": "2017-11-23T00:06:16.574256Z"
    }
   },
   "source": [
    "# Что нейронные сети знают о наших лицах?\n",
    "\n",
    "![](screens/mKWoBR5P5t4.jpg)\n",
    "\n",
    "### [Школа GoTo](https://goto.msk.ru)\n",
    "[Емельяненко Дмитрия](https://github.com/TIXFeniks) <br>\n",
    "[Творожков Андрей](https://tvorog.me)\n"
   ]
  },
  {
   "cell_type": "markdown",
   "metadata": {},
   "source": [
    "### Подключим необходимые библиотеки"
   ]
  },
  {
   "cell_type": "code",
   "execution_count": null,
   "metadata": {
    "ExecuteTime": {
     "end_time": "2017-11-26T12:25:21.342373Z",
     "start_time": "2017-11-26T12:25:21.332953Z"
    },
    "collapsed": false
   },
   "outputs": [],
   "source": [
    "%load_ext autoreload\n",
    "%autoreload 2"
   ]
  },
  {
   "cell_type": "code",
   "execution_count": null,
   "metadata": {
    "ExecuteTime": {
     "end_time": "2017-11-26T12:25:23.326289Z",
     "start_time": "2017-11-26T12:25:21.531120Z"
    },
    "collapsed": false
   },
   "outputs": [],
   "source": [
    "import numpy as np\n",
    "from sklearn.model_selection import train_test_split\n",
    "from helpers.lfw_dataset import load_lfw_dataset\n",
    "%matplotlib inline\n",
    "import matplotlib.pyplot as plt\n",
    "from sklearn.neighbors import LSHForest\n",
    "from IPython.display import display\n",
    "from ipywidgets import widgets\n",
    "from helpers.autoencoder import load_autoencoder\n",
    "import skimage\n",
    "from skimage import io\n",
    "import matplotlib.patches as patches\n",
    "from skimage import transform"
   ]
  },
  {
   "cell_type": "markdown",
   "metadata": {
    "ExecuteTime": {
     "end_time": "2017-11-23T00:11:40.851902Z",
     "start_time": "2017-11-23T00:11:40.846041Z"
    }
   },
   "source": [
    "\n",
    "# Загрузим датасет\n",
    "Данные были уже загружены специально для вас. Ссылки (на всякий случай):\n",
    "- http://www.cs.columbia.edu/CAVE/databases/pubfig/download/lfw_attributes.txt\n",
    "- http://vis-www.cs.umass.edu/lfw/lfw-deepfunneled.tgz\n",
    "- http://vis-www.cs.umass.edu/lfw/lfw.tgz"
   ]
  },
  {
   "cell_type": "code",
   "execution_count": null,
   "metadata": {
    "ExecuteTime": {
     "end_time": "2017-11-26T12:25:42.954482Z",
     "start_time": "2017-11-26T12:25:25.203666Z"
    },
    "collapsed": false
   },
   "outputs": [],
   "source": [
    "## Загружаем датасет\n",
    "X, attr = load_lfw_dataset(use_raw=True,dimx=38,dimy=38)\n",
    "\n",
    "# Представляем ввиде матрицы\n",
    "m_attr = attr.as_matrix()\n",
    "\n",
    "# Делаем непонятно что\n",
    "X = X.astype('float32') / 255.0\n",
    "\n",
    "# Смотрим размерность картинки\n",
    "img_shape = X.shape[1:]\n",
    "\n",
    "# Делим на трейн, тест\n",
    "X_train, X_test, attr_train, attr_test = train_test_split(X, m_attr, test_size=0.1, random_state=42)"
   ]
  },
  {
   "cell_type": "markdown",
   "metadata": {},
   "source": [
    "## Посмотрим на имеющиеся изображения"
   ]
  },
  {
   "cell_type": "code",
   "execution_count": null,
   "metadata": {
    "ExecuteTime": {
     "end_time": "2017-11-26T12:27:11.596663Z",
     "start_time": "2017-11-26T12:27:10.984074Z"
    },
    "collapsed": false
   },
   "outputs": [],
   "source": [
    "plt.title('sample image')\n",
    "for i in range(6):\n",
    "    plt.subplot(2,3,i+1)\n",
    "    plt.imshow(X[i])\n",
    "\n",
    "print(\"X shape:\",X.shape)\n",
    "print(\"attr shape:\",attr.shape)"
   ]
  },
  {
   "cell_type": "markdown",
   "metadata": {},
   "source": [
    "##  Модель\n",
    "\n",
    "Для манипуляций с лицами мы будем использовать автокодировщик. Эту модель мы учим сжимать картинку до вектора малой размерности и разжимать её обратно, теряя как можно меньше инфромации.\n",
    "\n",
    "<img src=\"https://blog.keras.io/img/ae/autoencoder_schema.jpg\">"
   ]
  },
  {
   "cell_type": "code",
   "execution_count": null,
   "metadata": {
    "ExecuteTime": {
     "end_time": "2017-11-26T12:27:27.849273Z",
     "start_time": "2017-11-26T12:27:11.990935Z"
    },
    "collapsed": false
   },
   "outputs": [],
   "source": [
    "autoencoder = load_autoencoder(img_shape, weights_file= 'model_weights/deep_weights_64.pkl')\n",
    "# gan4.pkl - это весело! Попробуй и другие .pkl файлы из папки с этой тетрадкой"
   ]
  },
  {
   "cell_type": "markdown",
   "metadata": {},
   "source": [
    "За время мастер-класса мы не успеем обучить модель с нуля, так что мы предобучили модель заранее, код на предыдущей клетке загружает модель.\n",
    "\n",
    "![](screens/dl_meme2.jpg)"
   ]
  },
  {
   "cell_type": "markdown",
   "metadata": {},
   "source": [
    "## Визуализация\n",
    "\n",
    "Используем нашу модель для того, чтобы сжать картинки. Затем разожмём их обратно"
   ]
  },
  {
   "cell_type": "code",
   "execution_count": null,
   "metadata": {
    "ExecuteTime": {
     "end_time": "2017-11-26T12:27:27.875582Z",
     "start_time": "2017-11-26T12:27:27.850672Z"
    },
    "collapsed": true
   },
   "outputs": [],
   "source": [
    "def visualize(img,autoencoder):\n",
    "    \"\"\"Draws original, encoded and decoded images\"\"\"\n",
    "    code = autoencoder.encode(img[None])[0]\n",
    "    reco = autoencoder.decode(code[None])[0]\n",
    "    plt.subplot(1,3,1)\n",
    "    plt.title(\"Original\")\n",
    "    plt.imshow(img)\n",
    "\n",
    "    plt.subplot(1,3,2)\n",
    "    plt.title(\"Code\")\n",
    "    plt.imshow(code.reshape([code.shape[-1]//8,-1]))\n",
    "\n",
    "    plt.subplot(1,3,3)\n",
    "    plt.title(\"Reconstructed\")\n",
    "    plt.imshow(reco.clip(0,1))\n",
    "    plt.show()\n"
   ]
  },
  {
   "cell_type": "code",
   "execution_count": null,
   "metadata": {
    "ExecuteTime": {
     "end_time": "2017-11-26T12:27:31.467215Z",
     "start_time": "2017-11-26T12:27:27.877097Z"
    },
    "collapsed": false
   },
   "outputs": [],
   "source": [
    "for i in range(10):\n",
    "    img = X_test[i]\n",
    "    visualize(img,autoencoder)\n"
   ]
  },
  {
   "cell_type": "markdown",
   "metadata": {},
   "source": [
    "## Поиск картинок с помощью автокодировщиков\n",
    "Нам удалось научить модель сжимать картинки и восстанавливать их неточно. С первого взгляда, решение этой задачи не приносит большой пользы, но, решив её, мы получили несколько интересных побочных эффектов.\n",
    "\n",
    "Первым полезным применением нашей модели является поиск схожих изображений по сгенерированным кодам картинок.\n",
    "\n",
    "Сперва закодируем наши изображения(не разкодируя обратно в картинки). Затем найдём близкие векторы-коды в нашей базе и покажем соответствующие им изображения как поисковую выдачу.\n",
    "\n",
    "Импользуем локально чувствительное хэширование(LSH) для ускорения процесса поиска. Для простоты, возьмём <a href=\"http://scikit-learn.org/0.18/modules/generated/sklearn.neighbors.LSHForest.html#sklearn.neighbors.LSHForest\"> реализацию из scikit-learn</a>"
   ]
  },
  {
   "cell_type": "code",
   "execution_count": null,
   "metadata": {
    "ExecuteTime": {
     "end_time": "2017-11-26T12:28:13.743487Z",
     "start_time": "2017-11-26T12:27:31.468770Z"
    },
    "collapsed": false
   },
   "outputs": [],
   "source": [
    "# закодируем изображения\n",
    "images = X_train\n",
    "codes = autoencoder.encode(images, batch_size=10)"
   ]
  },
  {
   "cell_type": "code",
   "execution_count": null,
   "metadata": {
    "ExecuteTime": {
     "end_time": "2017-11-26T12:28:14.027565Z",
     "start_time": "2017-11-26T12:28:13.746504Z"
    },
    "collapsed": true
   },
   "outputs": [],
   "source": [
    "# build hashes\n",
    "lshf = LSHForest(n_estimators=50).fit(codes)"
   ]
  },
  {
   "cell_type": "code",
   "execution_count": null,
   "metadata": {
    "ExecuteTime": {
     "end_time": "2017-11-26T12:28:14.049665Z",
     "start_time": "2017-11-26T12:28:14.030042Z"
    },
    "collapsed": true
   },
   "outputs": [],
   "source": [
    "# Функция нахождения схожих изображений\n",
    "def get_similar(image, n_neighbors=5):\n",
    "    assert image.ndim==3,\"image must be [batch,height,width,3]\"\n",
    "\n",
    "    code = autoencoder.encode(image[None])\n",
    "    \n",
    "    (distances,),(idx,) = lshf.kneighbors(code,n_neighbors=n_neighbors)\n",
    "    \n",
    "    return distances,images[idx]"
   ]
  },
  {
   "cell_type": "code",
   "execution_count": null,
   "metadata": {
    "ExecuteTime": {
     "end_time": "2017-11-26T12:28:14.114820Z",
     "start_time": "2017-11-26T12:28:14.052611Z"
    },
    "code_folding": [],
    "collapsed": true
   },
   "outputs": [],
   "source": [
    "# Визуализация похожих изображений\n",
    "def show_similar(image):\n",
    "    \n",
    "    distances,neighbors = get_similar(image,n_neighbors=11)\n",
    "    \n",
    "    plt.figure(figsize=[8,6])\n",
    "    plt.subplot(3,4,1)\n",
    "    plt.tick_params(\n",
    "        axis='x',          # changes apply to the x-axis\n",
    "        which='both',      # both major and minor ticks are affected\n",
    "        bottom='off',      # ticks along the bottom edge are off\n",
    "        top='off',         # ticks along the top edge are off\n",
    "        labelbottom='off')\n",
    "    plt.imshow(image)\n",
    "    plt.title(\"Original image\")\n",
    "    \n",
    "    for i in range(11):\n",
    "        plt.subplot(3,4,i+2)\n",
    "        plt.tick_params(\n",
    "            axis='x',          # changes apply to the x-axis\n",
    "            which='both',      # both major and minor ticks are affected\n",
    "            bottom='off',      # ticks along the bottom edge are off\n",
    "            top='off',         # ticks along the top edge are off\n",
    "            labelbottom='off')\n",
    "\n",
    "        plt.imshow(neighbors[i])\n",
    "        plt.title(\"Dist=%.3f\"%distances[i])\n",
    "    plt.show()"
   ]
  },
  {
   "cell_type": "code",
   "execution_count": null,
   "metadata": {
    "ExecuteTime": {
     "end_time": "2017-11-26T12:28:15.146155Z",
     "start_time": "2017-11-26T12:28:14.117622Z"
    },
    "collapsed": false
   },
   "outputs": [],
   "source": [
    "# улыбки\n",
    "show_similar(X_test[1])"
   ]
  },
  {
   "cell_type": "code",
   "execution_count": null,
   "metadata": {
    "ExecuteTime": {
     "end_time": "2017-11-26T12:28:16.113740Z",
     "start_time": "2017-11-26T12:28:15.147842Z"
    },
    "collapsed": false
   },
   "outputs": [],
   "source": [
    "# Национальность\n",
    "show_similar(X_test[499])"
   ]
  },
  {
   "cell_type": "code",
   "execution_count": null,
   "metadata": {
    "ExecuteTime": {
     "end_time": "2017-11-26T12:28:17.205875Z",
     "start_time": "2017-11-26T12:28:16.115425Z"
    },
    "collapsed": false
   },
   "outputs": [],
   "source": [
    "# очки\n",
    "show_similar(X_test[63])"
   ]
  },
  {
   "cell_type": "markdown",
   "metadata": {},
   "source": [
    "## Преобразование картинок\n",
    "Вторым, менее полезным, но не менее наглядным примером использования нашей модели будет нахождение промежуточных изображений при переходе от одной картинки к другой"
   ]
  },
  {
   "cell_type": "code",
   "execution_count": null,
   "metadata": {
    "ExecuteTime": {
     "end_time": "2017-11-26T12:28:21.078164Z",
     "start_time": "2017-11-26T12:28:17.207032Z"
    },
    "collapsed": false
   },
   "outputs": [],
   "source": [
    "N_INTERMEDIATE = 8\n",
    "for _ in range(5):\n",
    "    image1,image2 = X_test[np.random.randint(0,len(X_test),size=2)]\n",
    "\n",
    "    code1, code2 = autoencoder.encode(np.stack([image1,image2]))\n",
    "\n",
    "    plt.figure(figsize=[10,4])\n",
    "    plt.subplot(1,N_INTERMEDIATE+2,1)\n",
    "    plt.tick_params(\n",
    "            axis='x',          # changes apply to the x-axis\n",
    "            which='both',      # both major and minor ticks are affected\n",
    "            bottom='off',      # ticks along the bottom edge are off\n",
    "            top='off',         # ticks along the top edge are off\n",
    "            labelbottom='off')\n",
    "    plt.imshow(image1)\n",
    "    plt.title(\"original\")\n",
    "    for i,a in enumerate(np.linspace(0,1,endpoint=True,num=N_INTERMEDIATE)):\n",
    "\n",
    "        output_code = code1*(1-a) + code2*(a)\n",
    "        output_image = autoencoder.decode(output_code[None])[0]\n",
    "        plt.tick_params(\n",
    "            axis='x',          # changes apply to the x-axis\n",
    "            which='both',      # both major and minor ticks are affected\n",
    "            bottom='off',      # ticks along the bottom edge are off\n",
    "            top='off',         # ticks along the top edge are off\n",
    "            labelbottom='off')\n",
    "        plt.subplot(1,N_INTERMEDIATE+2,i+2)\n",
    "        plt.imshow(output_image)\n",
    "        plt.title(\"a=%.2f\"%a)\n",
    "    plt.subplot(1,N_INTERMEDIATE+2,N_INTERMEDIATE+1)\n",
    "    plt.tick_params(\n",
    "            axis='x',          # changes apply to the x-axis\n",
    "            which='both',      # both major and minor ticks are affected\n",
    "            bottom='off',      # ticks along the bottom edge are off\n",
    "            top='off',         # ticks along the top edge are off\n",
    "            labelbottom='off')\n",
    "    plt.imshow(image2)\n",
    "    plt.title(\"target\")\n",
    "    plt.show()"
   ]
  },
  {
   "cell_type": "markdown",
   "metadata": {},
   "source": [
    "## Преобразуем изображения на основе побочных данных картинок\n",
    "Наша модель умеет восстанавливать изображение, по его закодированному вектору. Кодированный вектор несёт в себе много осмысленной информации. Мы можем манипулировать таким вектором, чтобы манипулировать хранимой в нём информацией.\n",
    "\n",
    "Помимо лиц, наш датасет имеет набор атрибутов - значений, характеризующих дополнительную инфрмацию о картинке\n",
    "\n",
    "Используем эту информацию для осмысленной манипуляцией над изображениями\n",
    "<img src=\"http://www.samyzaf.com/ML/nlp/word2vec2.png\">\n",
    "    пример представления связей объектов в векторном пространстве\n"
   ]
  },
  {
   "cell_type": "code",
   "execution_count": null,
   "metadata": {
    "ExecuteTime": {
     "end_time": "2017-11-26T12:28:21.095509Z",
     "start_time": "2017-11-26T12:28:21.079456Z"
    },
    "collapsed": false,
    "run_control": {
     "marked": false
    }
   },
   "outputs": [],
   "source": [
    "# какие есть атрибуты\n",
    "attr.columns"
   ]
  },
  {
   "cell_type": "code",
   "execution_count": null,
   "metadata": {
    "ExecuteTime": {
     "end_time": "2017-11-26T12:29:07.235320Z",
     "start_time": "2017-11-26T12:28:21.096781Z"
    },
    "collapsed": false
   },
   "outputs": [],
   "source": [
    "# закодируем изображения\n",
    "encoded = autoencoder.encode(X)"
   ]
  },
  {
   "cell_type": "code",
   "execution_count": null,
   "metadata": {
    "ExecuteTime": {
     "end_time": "2017-11-26T12:29:07.268154Z",
     "start_time": "2017-11-26T12:29:07.237995Z"
    },
    "collapsed": true
   },
   "outputs": [],
   "source": [
    "attribute = 'Smiling' # аттрибут, который мы будем менять\n",
    "# Попробуй 'Smiling', 'Strong Nose-Mouth Lines','Male', 'Black', 'Asian', 'Attractive Woman', 'Big Nose', Mustache'\n",
    "\n",
    "mean_featured = (encoded * attr[attribute].as_matrix()[:encoded.shape[0],None].astype('float32')).mean(axis = 0)\n",
    "mean_code = encoded.mean(axis = 0)\n",
    "\n",
    "featured_direction = mean_featured - mean_code"
   ]
  },
  {
   "cell_type": "code",
   "execution_count": null,
   "metadata": {
    "ExecuteTime": {
     "end_time": "2017-11-26T12:29:07.366784Z",
     "start_time": "2017-11-26T12:29:07.270874Z"
    },
    "collapsed": false
   },
   "outputs": [],
   "source": [
    "attr['Mustache'].astype('float32').idxmax()"
   ]
  },
  {
   "cell_type": "code",
   "execution_count": null,
   "metadata": {
    "ExecuteTime": {
     "end_time": "2017-11-26T12:29:07.755525Z",
     "start_time": "2017-11-26T12:29:07.369319Z"
    },
    "collapsed": false
   },
   "outputs": [],
   "source": [
    "# выберем фото из датасета\n",
    "def plot_morphing(factor, index):\n",
    "    #factor = 2 # насколько сильно мы меняем картинку\n",
    "\n",
    "    img = X[index]\n",
    "    code = encoded[index]\n",
    "    plt.subplot(1,3,1)\n",
    "    plt.imshow(img) # выводим оригинальное изображение\n",
    "    code_open = code + featured_direction*factor\n",
    "    plt.subplot(1,3,2)\n",
    "    plt.imshow(autoencoder.decode([code])[0])\n",
    "    plt.subplot(1,3,3)\n",
    "    plt.imshow(autoencoder.decode([code_open])[0]);\n",
    "layout = widgets.Layout(width='100%', height='80px')\n",
    "widgets.interact(plot_morphing, factor = widgets.FloatSlider(min=-10.0,max=10.,step= 0.1,layout=layout),\n",
    "                 index = widgets.IntSlider(min=0,max=X.shape[0], step=1, layout=layout));"
   ]
  },
  {
   "cell_type": "markdown",
   "metadata": {},
   "source": [
    "## загрузи свою картинку\n",
    "загрузи её в папку с тетрадкой и укажи путь к ней в поле внизу "
   ]
  },
  {
   "cell_type": "code",
   "execution_count": null,
   "metadata": {
    "ExecuteTime": {
     "end_time": "2017-11-26T12:29:07.778675Z",
     "start_time": "2017-11-26T12:29:07.758471Z"
    },
    "collapsed": true
   },
   "outputs": [],
   "source": [
    "_left = _right = _bottom = _top = 0.5 # значения по умолчанию"
   ]
  },
  {
   "cell_type": "code",
   "execution_count": null,
   "metadata": {
    "ExecuteTime": {
     "end_time": "2017-11-26T12:44:03.996299Z",
     "start_time": "2017-11-26T12:44:02.344308Z"
    },
    "collapsed": false,
    "scrolled": false
   },
   "outputs": [],
   "source": [
    "img = X[0]\n",
    "def load_photo(path, left, bottom, right, top):\n",
    "    #try:\n",
    "    if True:\n",
    "        pic = io.imread(path)\n",
    "        global _left;global _right; global _bottom; global _top\n",
    "        _left = left\n",
    "        _right = right\n",
    "        _bottom = bottom\n",
    "        _top = top\n",
    "        left = int(pic.shape[1] * left)\n",
    "        top = int(pic.shape[0] * top)\n",
    "        right = left + int((pic.shape[1] - left) * right)\n",
    "        bottom = top + int((pic.shape[0] - top) * bottom)\n",
    "        cropped = pic[top:bottom,left:right]\n",
    "        cropped = transform.resize(cropped, img_shape, anti_aliasing=True)\n",
    "        #pic = skimage.util.(pic, img_shape)\n",
    "\n",
    "        fig,ax = plt.subplots(1)\n",
    "\n",
    "        # Display the image\n",
    "        ax.imshow(pic)\n",
    "\n",
    "\n",
    "        # Create a Rectangle patch\n",
    "        rect = patches.Rectangle((left,top),right - left, bottom - top,linewidth=1,edgecolor='r',facecolor='none')\n",
    "\n",
    "        # Add the patch to the Axes\n",
    "        ax.add_patch(rect)\n",
    "\n",
    "        plt.show()\n",
    "        plt.imshow(cropped)\n",
    "        global img;\n",
    "        img = cropped\n",
    "    #except:\n",
    "    #    pass\n",
    "widgets.interact(load_photo, path = \"your_image.jpg\",\n",
    "                 left = widgets.FloatSlider(value = _left,min=0.,max=1.,step= 0.01,continuous_update=False,layout=layout),\n",
    "                 right = widgets.FloatSlider(value = _right,min=0.01,max=1.,step= 0.01,continuous_update=False,layout=layout),\n",
    "                 bottom = widgets.FloatSlider(value = _bottom,min=0,max=1.,step= 0.01,continuous_update=False,layout=layout),\n",
    "                 top = widgets.FloatSlider(value = _top,min=0.01,max=1.,step= 0.01,continuous_update=False,layout=layout))"
   ]
  },
  {
   "cell_type": "code",
   "execution_count": null,
   "metadata": {
    "ExecuteTime": {
     "end_time": "2017-11-26T12:30:37.031524Z",
     "start_time": "2017-11-26T12:30:36.671014Z"
    },
    "collapsed": false,
    "scrolled": true
   },
   "outputs": [],
   "source": [
    "visualize(img, autoencoder)"
   ]
  },
  {
   "cell_type": "code",
   "execution_count": null,
   "metadata": {
    "collapsed": false
   },
   "outputs": [],
   "source": [
    "<Попробуй сделать преобразования с лицом c твоей картинки>"
   ]
  },
  {
   "cell_type": "code",
   "execution_count": null,
   "metadata": {
    "collapsed": false
   },
   "outputs": [],
   "source": [
    "plt.imshow(img)"
   ]
  },
  {
   "cell_type": "markdown",
   "metadata": {
    "collapsed": true
   },
   "source": [
    "# Ура!\n",
    "\n",
    "## Что делать дальше?\n",
    "1. Можно посмотреть в эти же тетрадки дома и разобраться более детально. [Вот](https://github.com/tvorogme/digitalfest) репозиторий!\n",
    "2. Прочитай [блог школы GoTo](https://habrahabr.ru/company/goto/blog/339050/), рассказывающий, с чего начинать изучать анализ данных и машинное обучение.\n",
    "3. Когда ты наберёшься знаний и тебе захочется проверить свои силы, попробуй поучаствовать в соревнованиях на [kaggle](https://www.kaggle.com/competitions)\n",
    "\n",
    "    ![](http://www.setwalls.ru/pic/201305/1680x1050/setwalls.ru-43884.jpg)\n",
    "\n",
    "4. Когда ты научишься самостоятельно обучать нейронные сети, CPU для вычислений начнёт не хватать. Подумай о покупке GPU. Подойдёт любая CUDA-совместимая видеокарта, но чем мощнее - тем лучше\n",
    "![](screens/zmubBCUZwBg.jpg)"
   ]
  }
 ],
 "metadata": {
  "kernelspec": {
   "display_name": "Python 3",
   "language": "python",
   "name": "python3"
  },
  "language_info": {
   "codemirror_mode": {
    "name": "ipython",
    "version": 3
   },
   "file_extension": ".py",
   "mimetype": "text/x-python",
   "name": "python",
   "nbconvert_exporter": "python",
   "pygments_lexer": "ipython3",
   "version": "3.6.0"
  },
  "widgets": {
   "state": {
    "4b42c60ad1c143cea0d849da3bb8f861": {
     "views": [
      {
       "cell_index": 5
      }
     ]
    },
    "671fc460911a4b179db54471815841ca": {
     "views": [
      {
       "cell_index": 28
      }
     ]
    },
    "98391490ee0340ca9d31bd2d31f5a235": {
     "views": [
      {
       "cell_index": 32
      }
     ]
    }
   },
   "version": "1.2.0"
  }
 },
 "nbformat": 4,
 "nbformat_minor": 2
}
